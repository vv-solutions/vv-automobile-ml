{
 "cells": [
  {
   "cell_type": "code",
   "execution_count": 59,
   "id": "7f0c4850-769e-4eee-9385-6c1ae6fb33fa",
   "metadata": {},
   "outputs": [],
   "source": [
    "from selenium import webdriver\n",
    "from selenium.webdriver.common.keys import Keys\n",
    "from selenium.webdriver.firefox.options import Options\n",
    "from selenium.webdriver.firefox.service import Service\n",
    "from webdriver_manager.firefox import GeckoDriverManager\n",
    "from selenium.webdriver.common.by import By\n",
    "from selenium.common import exceptions\n",
    "import bs4\n",
    "import json\n",
    "\n",
    "#Base url:\n",
    "url = 'https://motorregister.skat.dk/dmr-kerne/koeretoejdetaljer/visKoeretoej?execution=e2s1'\n",
    "def motor_register_interaction(numberplate):\n",
    "    options = Options()\n",
    "    options.headless = True\n",
    "    browser = webdriver.Firefox(service=Service(GeckoDriverManager().install()), options=options)\n",
    "    browser.get(url)\n",
    "    \n",
    "    try:\n",
    "        #Finds search input field\n",
    "        search_field = browser.find_element(By.ID, 'soegeord')\n",
    "\n",
    "        #Set the value of the search input field to numberplate\n",
    "        search_field.send_keys(numberplate)\n",
    "\n",
    "        #Finds search button and clicks\n",
    "        buttonSearch = browser.find_element(By.ID,'fremsoegKtBtn')\n",
    "        buttonSearch.click()\n",
    "\n",
    "        brand_model_variant = browser.find_element(By.XPATH,'/html/body/div[2]/div/div[1]/div[2]/div[3]/div/div[2]/div[1]/div[2]/div/div[1]/div[1]/div/div[2]/span[2]').text\n",
    "        brand=brand_model_variant.split(',')[0] \n",
    "        model=brand_model_variant.split(',')[1] \n",
    "\n",
    "        year= browser.find_element(By.XPATH,'/html/body/div[2]/div/div[1]/div[2]/div[3]/div/div[2]/div[1]/div[4]/div/div[1]/div[4]/div[2]/span').text\n",
    "        first_reg_year= browser.find_element(By.XPATH,'/html/body/div[2]/div/div[1]/div[2]/div[3]/div/div[2]/div[1]/div[2]/div/div[1]/div[2]/div/div[2]/span[2]').text\n",
    "        gear_type = browser.find_element(By.XPATH,'/html/body/div[2]/div/div[1]/div[2]/div[3]/div/div[2]/div[1]/div[12]/div/div[1]/div[1]/div[2]/span').text\n",
    "\n",
    "        tech_data_button = browser.find_element(By.XPATH, '//*[@id=\"center\"]/div[2]/div[3]/div/div[1]/ul/li[2]/div/a')\n",
    "        tech_url = tech_data_button.get_attribute(\"href\")\n",
    "        browser.get(tech_url)\n",
    "        browser.implicitly_wait(4)\n",
    "\n",
    "        fuel_type= browser.find_element(By.XPATH,'/html/body/div[2]/div/div[1]/div[2]/div[3]/div/div[2]/div[1]/div[3]/div/div[1]/div[2]/div[2]/span').text\n",
    "        fuel_economy= browser.find_element(By.XPATH,'/html/body/div[2]/div/div[1]/div[2]/div[3]/div/div[2]/div[1]/div[4]/div/div[1]/div[3]/div[2]/span[1]').text\n",
    "        kw= browser.find_element(By.XPATH,'/html/body/div[2]/div/div[1]/div[2]/div[3]/div/div[2]/div[1]/div[3]/div/div[2]/div[2]/div[2]/span[1]').text\n",
    "        #Gets KM from findsynsrapport\n",
    "        browser.get(\"https://findsynsrapport.fstyr.dk/Sider/resultater.aspx?Reg=\"+numberplate)\n",
    "        browser.implicitly_wait(4)\n",
    "        table_inspect = browser.find_element(By.ID, 'tblInspections')\n",
    "        km = table_inspect.find_elements(By.TAG_NAME, 'tr')[1].find_elements(By.TAG_NAME, 'td')[2].text.replace('.', '')\n",
    "        car_dict = cleanupData(brand,model,year,first_reg_year,gear_type,km,fuel_type,fuel_economy,kw)\n",
    "        return car_dict\n",
    "    \n",
    "    except exceptions.NoSuchElementException:\n",
    "        print(\"Could not fetch the element\")\n",
    "    \n",
    "    finally: \n",
    "        browser.close()"
   ]
  },
  {
   "cell_type": "code",
   "execution_count": 60,
   "id": "ddaf4ff1-9dd9-42a6-b6fc-ddb8ae3f16d2",
   "metadata": {},
   "outputs": [],
   "source": [
    "def cleanupData(brand, model, year, first_reg_year, gear_type, km,fuel_type, fuel_economy, kw):\n",
    "    brand_dict = {\"MERCEDES-BENZ\": \"MERCEDES\",\n",
    "                  \"VOLKSWAGEN\": \"VW\"}\n",
    "\n",
    "    if brand in brand_dict:\n",
    "        brand = brand_dict[brand]\n",
    "\n",
    "    gear_type = gear_type.replace('Nej', 'M').replace('Ja', 'A')\n",
    "    model = model.lstrip().replace(' ', '_')\n",
    "    horse_power = round(float(kw) * 1.35962)\n",
    "    first_reg_year = first_reg_year.split('-')[2]\n",
    "    fuel_economy = fuel_economy.replace(',','.')\n",
    "    if year == \"-\":\n",
    "        year=first_reg_year\n",
    "        \n",
    "    car_dict_cleaned = {'brand': brand,\n",
    "                        'model': model,\n",
    "                        'model_year': year,\n",
    "                        'reg': first_reg_year,\n",
    "                        'gear_type': gear_type,\n",
    "                        'km': km,\n",
    "                        'fuel_type': fuel_type,\n",
    "                        'fuel_economy': fuel_economy,\n",
    "                        'horse_power': horse_power}\n",
    "    return car_dict_cleaned\n",
    "    \n",
    "\n"
   ]
  },
  {
   "cell_type": "code",
   "execution_count": 62,
   "id": "73a246e8-9c06-40b4-a9c9-35ed22b20bce",
   "metadata": {},
   "outputs": [
    {
     "name": "stdout",
     "output_type": "stream",
     "text": [
      "{'brand': 'VW', 'model': 'POLO', 'model_year': '2017', 'reg': '2017', 'gear_type': 'M', 'km': '76000', 'fuel_type': 'Benzin', 'fuel_economy': '20.8', 'horse_power': 150}\n"
     ]
    }
   ],
   "source": [
    "car_info = motor_register_interaction(\"BL61761\")\n",
    "print(car_info)"
   ]
  },
  {
   "cell_type": "code",
   "execution_count": null,
   "id": "3515fdd2-959c-4122-9d6e-039d56272e42",
   "metadata": {},
   "outputs": [],
   "source": []
  }
 ],
 "metadata": {
  "kernelspec": {
   "display_name": "Python 3 (ipykernel)",
   "language": "python",
   "name": "python3"
  },
  "language_info": {
   "codemirror_mode": {
    "name": "ipython",
    "version": 3
   },
   "file_extension": ".py",
   "mimetype": "text/x-python",
   "name": "python",
   "nbconvert_exporter": "python",
   "pygments_lexer": "ipython3",
   "version": "3.9.13"
  }
 },
 "nbformat": 4,
 "nbformat_minor": 5
}
