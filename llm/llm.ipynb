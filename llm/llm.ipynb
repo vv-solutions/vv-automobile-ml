{
 "cells": [
  {
   "cell_type": "code",
   "execution_count": 1,
   "id": "ad6ee570-c0c8-4c83-ad19-c3c96f7ddb12",
   "metadata": {},
   "outputs": [],
   "source": [
    "import os\n",
    "import numpy \n",
    "import pandas as pd\n",
    "import torch\n",
    "from langchain.chains import RetrievalQA\n",
    "from langchain.llms import Ollama\n",
    "from langchain.callbacks.manager import CallbackManager\n",
    "from langchain.callbacks.streaming_stdout import StreamingStdOutCallbackHandler\n",
    "# from langchain.document_loaders import WikipediaLoader\n",
    "from langchain_community.document_loaders import WikipediaLoader\n",
    "from langchain.text_splitter import TokenTextSplitter, CharacterTextSplitter, RecursiveCharacterTextSplitter\n",
    "import myloadlib\n",
    "from myloadlib import loadDir, loadFile, loadWiki, loadYoutube, readAPI\n",
    "from langchain_community.document_loaders.csv_loader import CSVLoader"
   ]
  },
  {
   "cell_type": "markdown",
   "id": "bbab9766-2d3b-435e-ae5e-ce5d22d64cad",
   "metadata": {},
   "source": [
    "# Data Ingestion"
   ]
  },
  {
   "cell_type": "code",
   "execution_count": 2,
   "id": "df98b74d-13a0-44d5-824a-67497100acc8",
   "metadata": {},
   "outputs": [],
   "source": [
    "raw_docs = []"
   ]
  },
  {
   "cell_type": "code",
   "execution_count": 3,
   "id": "3f196069-f230-46da-af0f-14b626615009",
   "metadata": {},
   "outputs": [
    {
     "data": {
      "text/plain": [
       "978"
      ]
     },
     "execution_count": 3,
     "metadata": {},
     "output_type": "execute_result"
    }
   ],
   "source": [
    "raw_docs.extend(myloadlib.loadFile(\"https://www.providenceschools.org/cms/lib/RI01900003/Centricity/Domain/723/Automotive%20training.pdf\"))\n",
    "len(raw_docs)"
   ]
  },
  {
   "cell_type": "code",
   "execution_count": 4,
   "id": "35c318c0-809e-4244-bc6b-82501c997e8c",
   "metadata": {},
   "outputs": [
    {
     "data": {
      "text/plain": [
       "1062"
      ]
     },
     "execution_count": 4,
     "metadata": {},
     "output_type": "execute_result"
    }
   ],
   "source": [
    "raw_docs.extend(myloadlib.loadFile(\"https://transportation.wv.gov/highways/training/TrainingDocuments/Crawfords_Auto_Repair_Guide.pdf\"))\n",
    "len(raw_docs)"
   ]
  },
  {
   "cell_type": "code",
   "execution_count": 5,
   "id": "24a285f3-8e4b-49b8-8c11-b99f64356c0b",
   "metadata": {},
   "outputs": [
    {
     "data": {
      "text/plain": [
       "1066"
      ]
     },
     "execution_count": 5,
     "metadata": {},
     "output_type": "execute_result"
    }
   ],
   "source": [
    "raw_docs.extend(myloadlib.loadFile(\"https://www.missskirtich.com/uploads/2/3/3/7/23374820/how_to_change_your_car_oil.pdf\"))\n",
    "len(raw_docs)"
   ]
  },
  {
   "cell_type": "code",
   "execution_count": 6,
   "id": "27bcad5f-176f-44e6-a405-914380588826",
   "metadata": {},
   "outputs": [
    {
     "data": {
      "text/plain": [
       "1077"
      ]
     },
     "execution_count": 6,
     "metadata": {},
     "output_type": "execute_result"
    }
   ],
   "source": [
    "raw_docs.extend(myloadlib.loadFile(\"https://techinfo.honda.com/rjanisis/pubs/OM/IT9393/IT9393O00108A.pdf\"))\n",
    "len(raw_docs)"
   ]
  },
  {
   "cell_type": "code",
   "execution_count": 7,
   "id": "d48676a9-69ef-40dd-9038-04d6c1a2ca8e",
   "metadata": {},
   "outputs": [
    {
     "data": {
      "text/plain": [
       "38362"
      ]
     },
     "execution_count": 7,
     "metadata": {},
     "output_type": "execute_result"
    }
   ],
   "source": [
    "raw_docs.extend(CSVLoader(file_path=\"./data/cars.csv\").load())\n",
    "len(raw_docs)"
   ]
  },
  {
   "cell_type": "code",
   "execution_count": 8,
   "id": "48e2b19f-4d58-4dba-83b8-7dd49801d925",
   "metadata": {},
   "outputs": [
    {
     "data": {
      "text/plain": [
       "42289"
      ]
     },
     "execution_count": 8,
     "metadata": {},
     "output_type": "execute_result"
    }
   ],
   "source": [
    "raw_docs.extend(CSVLoader(file_path=\"./data/products.csv\").load())\n",
    "len(raw_docs)"
   ]
  },
  {
   "cell_type": "code",
   "execution_count": 9,
   "id": "ea0c2c73-3e26-4bcd-ad0d-8e0c896e5928",
   "metadata": {},
   "outputs": [
    {
     "data": {
      "text/plain": [
       "42366"
      ]
     },
     "execution_count": 9,
     "metadata": {},
     "output_type": "execute_result"
    }
   ],
   "source": [
    "raw_docs.extend(myloadlib.loadFile(\"https://di-uploads-pod5.dealerinspire.com/autocitysd/uploads/2017/04/The-Ultimate-Used-Car-Buying-Guide.pdf\"))\n",
    "len(raw_docs)"
   ]
  },
  {
   "cell_type": "code",
   "execution_count": 10,
   "id": "4a54d8f2-5e83-47f7-aa3b-d0f4bec6056d",
   "metadata": {},
   "outputs": [
    {
     "data": {
      "text/plain": [
       "42386"
      ]
     },
     "execution_count": 10,
     "metadata": {},
     "output_type": "execute_result"
    }
   ],
   "source": [
    "raw_docs.extend(myloadlib.loadFile(\"https://nacpi.net/sites/default/files/2023-05/Buying%20a%20Used%20Car.pdf\"))\n",
    "len(raw_docs)"
   ]
  },
  {
   "cell_type": "code",
   "execution_count": 11,
   "id": "8cc96a75-6be8-4ca2-bfa6-8018e0ef78d2",
   "metadata": {},
   "outputs": [
    {
     "data": {
      "text/plain": [
       "42388"
      ]
     },
     "execution_count": 11,
     "metadata": {},
     "output_type": "execute_result"
    }
   ],
   "source": [
    "raw_docs.extend(myloadlib.loadFile(\"https://www.icandrive.com/wp-content/uploads/2019/01/How-to-Change-a-Flat-Tire-Student-Handout.pdf\"))\n",
    "len(raw_docs)"
   ]
  },
  {
   "cell_type": "code",
   "execution_count": 12,
   "id": "5c26424d-d111-4660-ab7d-41f9175ce567",
   "metadata": {},
   "outputs": [
    {
     "data": {
      "text/plain": [
       "42409"
      ]
     },
     "execution_count": 12,
     "metadata": {},
     "output_type": "execute_result"
    }
   ],
   "source": [
    "raw_docs.extend(myloadlib.loadFile(\"https://irp.cdn-website.com/a8e0ea67/files/uploaded/Caring_For_Your_Car_The_Easy_Way_copy.pdf\"))\n",
    "len(raw_docs)"
   ]
  },
  {
   "cell_type": "code",
   "execution_count": 13,
   "id": "d402d1aa-67df-4a26-a3d4-655bd3535d36",
   "metadata": {},
   "outputs": [
    {
     "data": {
      "text/plain": [
       "42410"
      ]
     },
     "execution_count": 13,
     "metadata": {},
     "output_type": "execute_result"
    }
   ],
   "source": [
    "raw_docs.extend(myloadlib.loadYoutube(\"https://www.youtube.com/watch?v=0KDMdYww4VE\", \"en\"))\n",
    "len(raw_docs)"
   ]
  },
  {
   "cell_type": "markdown",
   "id": "ed6e6267-8212-44ec-bc2b-fb04595e50e0",
   "metadata": {},
   "source": [
    "# splitting documents into chuncks"
   ]
  },
  {
   "cell_type": "code",
   "execution_count": 14,
   "id": "1c51486c-56f4-484a-a663-faf1fb6ccece",
   "metadata": {},
   "outputs": [],
   "source": [
    "splitter = TokenTextSplitter(chunk_size=512, chunk_overlap=102)"
   ]
  },
  {
   "cell_type": "code",
   "execution_count": 15,
   "id": "dd1dacc0-92a0-4eb4-a087-d9d853d539b5",
   "metadata": {},
   "outputs": [],
   "source": [
    "split_docs = splitter.split_documents(raw_docs)"
   ]
  },
  {
   "cell_type": "markdown",
   "id": "26686959-7624-4bd1-977a-29a92896444b",
   "metadata": {},
   "source": [
    "# Emedding chuncks"
   ]
  },
  {
   "cell_type": "code",
   "execution_count": 16,
   "id": "f8e9fad0-f419-412c-b7c3-2837bd4971da",
   "metadata": {},
   "outputs": [],
   "source": [
    "from langchain import HuggingFaceHub\n",
    "from langchain_community.embeddings import HuggingFaceEmbeddings\n",
    "from langchain_community.embeddings import OllamaEmbeddings"
   ]
  },
  {
   "cell_type": "code",
   "execution_count": 17,
   "id": "ea34c499-e536-49ff-95c1-44035e375eaa",
   "metadata": {},
   "outputs": [],
   "source": [
    "model_name = \"sentence-transformers/all-mpnet-base-v2\"\n",
    "model_kwargs = {'device': 'cpu'}\n",
    "encode_kwargs = {'normalize_embeddings': True}"
   ]
  },
  {
   "cell_type": "code",
   "execution_count": 18,
   "id": "d3b85581-6c44-4ddd-a85a-0da4b2c62188",
   "metadata": {},
   "outputs": [],
   "source": [
    "embedder = HuggingFaceEmbeddings(\n",
    "    model_name=model_name,\n",
    "    model_kwargs=model_kwargs,\n",
    "    encode_kwargs=encode_kwargs\n",
    ")"
   ]
  },
  {
   "cell_type": "markdown",
   "id": "6a07c135-da4a-405c-89c3-2330d9c708c2",
   "metadata": {},
   "source": [
    "# storing in vector db"
   ]
  },
  {
   "cell_type": "code",
   "execution_count": 79,
   "id": "b10871b7-6ba8-4c5d-a6a5-ebd84fbb725d",
   "metadata": {},
   "outputs": [
    {
     "name": "stderr",
     "output_type": "stream",
     "text": [
      "huggingface/tokenizers: The current process just got forked, after parallelism has already been used. Disabling parallelism to avoid deadlocks...\n",
      "To disable this warning, you can either:\n",
      "\t- Avoid using `tokenizers` before the fork if possible\n",
      "\t- Explicitly set the environment variable TOKENIZERS_PARALLELISM=(true | false)\n"
     ]
    },
    {
     "name": "stdout",
     "output_type": "stream",
     "text": [
      "Name: pydantic\n",
      "Version: 2.7.1\n",
      "Summary: Data validation using Python type hints\n",
      "Home-page: \n",
      "Author: \n",
      "Author-email: Samuel Colvin <s@muelcolvin.com>, Eric Jolibois <em.jolibois@gmail.com>, Hasan Ramezani <hasan.r67@gmail.com>, Adrian Garcia Badaracco <1755071+adriangb@users.noreply.github.com>, Terrence Dorsey <terry@pydantic.dev>, David Montague <david@pydantic.dev>, Serge Matveenko <lig@countzero.co>, Marcelo Trylesinski <marcelotryle@gmail.com>, Sydney Runkle <sydneymarierunkle@gmail.com>, David Hewitt <mail@davidhewitt.io>, Alex Hall <alex.mojaki@gmail.com>\n",
      "License: \n",
      "Location: /Users/vincentbuchholz/opt/anaconda3/lib/python3.9/site-packages\n",
      "Requires: annotated-types, pydantic-core, typing-extensions\n",
      "Required-by: chromadb, chromadb-client, confection, fastapi, langchain, langchain-core, langsmith, spacy, thinc, weasel, weaviate-client\n",
      "Note: you may need to restart the kernel to use updated packages.\n"
     ]
    }
   ],
   "source": [
    "pip show pydantic"
   ]
  },
  {
   "cell_type": "code",
   "execution_count": 19,
   "id": "6f61053b-2ab6-4735-b00b-b6ff5319672d",
   "metadata": {},
   "outputs": [],
   "source": [
    "import weaviate\n",
    "from langchain_weaviate.vectorstores import WeaviateVectorStore"
   ]
  },
  {
   "cell_type": "code",
   "execution_count": 20,
   "id": "b88ba068-ad8b-4438-9256-6857338c33c1",
   "metadata": {},
   "outputs": [],
   "source": [
    "weaviate_url = \"http://127.0.0.1:8080\""
   ]
  },
  {
   "cell_type": "code",
   "execution_count": 21,
   "id": "8a7696b5-180d-400a-a0fb-c957bbcee710",
   "metadata": {},
   "outputs": [],
   "source": [
    "weaviate_client = weaviate.connect_to_local()"
   ]
  },
  {
   "cell_type": "code",
   "execution_count": 22,
   "id": "70fac649-87f1-4ede-b7f3-d60bba7d5fc4",
   "metadata": {},
   "outputs": [
    {
     "data": {
      "text/plain": [
       "True"
      ]
     },
     "execution_count": 22,
     "metadata": {},
     "output_type": "execute_result"
    }
   ],
   "source": [
    "weaviate_client.is_ready()"
   ]
  },
  {
   "cell_type": "code",
   "execution_count": 23,
   "id": "c445deb3-2a2f-4571-b445-bb37356fde63",
   "metadata": {},
   "outputs": [],
   "source": [
    "db = WeaviateVectorStore.from_documents(split_docs, embedder, client=weaviate_client,index_name=\"car_info\")"
   ]
  },
  {
   "cell_type": "markdown",
   "id": "df3416f6-dec2-46f4-9571-56ad15be24b4",
   "metadata": {},
   "source": [
    "# Searching\n",
    "\n",
    "### similarity search"
   ]
  },
  {
   "cell_type": "code",
   "execution_count": 49,
   "id": "37e4f2b2-6544-4e5a-a676-a6c593e8e219",
   "metadata": {},
   "outputs": [],
   "source": [
    "query = \"My car makes wired noises, what might be the issue?\""
   ]
  },
  {
   "cell_type": "code",
   "execution_count": 50,
   "id": "d1b018a1-e4e5-45c0-93d8-6d5eeb89456b",
   "metadata": {},
   "outputs": [
    {
     "name": "stdout",
     "output_type": "stream",
     "text": [
      "\n",
      "Document 1:\n",
      "AUTOMOTIVE TECHNICIA N TRAINING –  © TOM DENTON  \n",
      "952 to the customer. Advise customers if anything ...\n",
      "\n",
      "Document 2:\n",
      "Page | 20 \n",
      " \n",
      " 7. Never tow your vehicle with the drive wh eels on the ground . Front wheel drive veh...\n",
      "\n",
      "Document 3:\n",
      "AUTOMOTIVE TECHNICIA N TRAINING –  © TOM DENTON  \n",
      "647 Alternator Drive Belt  Check the alternator dr...\n",
      "\n",
      "Document 4:\n",
      "AUTOMOTIVE TECHNICIA N TRAINING –  © TOM DENTON  \n",
      "262 Pinking This i s a characteristic noise \n",
      "cause...\n"
     ]
    }
   ],
   "source": [
    "docs = db.similarity_search(query)\n",
    "\n",
    "# Print the first 100 characters of each result\n",
    "for i, doc in enumerate(docs):\n",
    "    print(f\"\\nDocument {i+1}:\")\n",
    "    print(doc.page_content[:100] + \"...\")\n"
   ]
  },
  {
   "cell_type": "code",
   "execution_count": 55,
   "id": "0aa5c31e-5ca8-41cf-8233-4fd934cf6d21",
   "metadata": {},
   "outputs": [],
   "source": [
    "query = \"good Bosch car parts\""
   ]
  },
  {
   "cell_type": "code",
   "execution_count": 56,
   "id": "c7076b66-ad87-4d48-b145-5d1372dab1ff",
   "metadata": {},
   "outputs": [
    {
     "name": "stdout",
     "output_type": "stream",
     "text": [
      "\n",
      "Document 1:\n",
      "product_name: Rear muffler\n",
      "product_description: 308505700\n",
      "brand_name: Bosch\n",
      "product_category: Parts...\n",
      "\n",
      "Document 2:\n",
      "product_name: Coil spring\n",
      "product_description: For vehicles without M-technology.OE: 33536767337\n",
      "bra...\n",
      "\n",
      "Document 3:\n",
      "product_name: Headlamps\n",
      "product_description: For vehicles with headlight range control (electric) if...\n",
      "\n",
      "Document 4:\n",
      "product_name: Oil filters\n",
      "product_description: OE: 13281621\n",
      "brand_name: Bosch\n",
      "product_category: Part...\n"
     ]
    }
   ],
   "source": [
    "docs = db.similarity_search(query)\n",
    "\n",
    "# Print the first 100 characters of each result\n",
    "for i, doc in enumerate(docs):\n",
    "    print(f\"\\nDocument {i+1}:\")\n",
    "    print(doc.page_content[:100] + \"...\")\n"
   ]
  },
  {
   "cell_type": "code",
   "execution_count": 28,
   "id": "bb92c6b2-122f-4d3a-97ab-25e70367ea86",
   "metadata": {},
   "outputs": [],
   "source": [
    "query = \"Whats the price of a used Ford\""
   ]
  },
  {
   "cell_type": "code",
   "execution_count": 30,
   "id": "0aaae2c7-281d-481c-b2b9-0be395df2665",
   "metadata": {},
   "outputs": [
    {
     "name": "stdout",
     "output_type": "stream",
     "text": [
      "\n",
      "Document 1:\n",
      "Make: Ford\n",
      "Model: F-150\n",
      "Price: 699900 DKK\n",
      "ModelYear: 2018\n",
      "FuelType: Benzin\n",
      "Reg: 2016\n",
      "Kilometers: 144...\n",
      "\n",
      "Document 2:\n",
      "Make: Ford\n",
      "Model: S-MAX\n",
      "Price: 39990 DKK\n",
      "ModelYear: 2007\n",
      "FuelType: Benzin\n",
      "Reg: 2007\n",
      "Kilometers: 3110...\n",
      "\n",
      "Document 3:\n",
      "Make: Ford\n",
      "Model: S-MAX\n",
      "Price: 299500 DKK\n",
      "ModelYear: 2019\n",
      "FuelType: Diesel\n",
      "Reg: 2019\n",
      "Kilometers: 198...\n",
      "\n",
      "Document 4:\n",
      "Make: Ford\n",
      "Model: S-MAX\n",
      "Price: 249999 DKK\n",
      "ModelYear: 2019\n",
      "FuelType: Diesel\n",
      "Reg: 2019\n",
      "Kilometers: 178...\n"
     ]
    }
   ],
   "source": [
    "docs = db.similarity_search(query)\n",
    "\n",
    "# Print the first 100 characters of each result\n",
    "for i, doc in enumerate(docs):\n",
    "    print(f\"\\nDocument {i+1}:\")\n",
    "    print(doc.page_content[:100] + \"...\")\n"
   ]
  },
  {
   "cell_type": "code",
   "execution_count": 31,
   "id": "03aa1ade-fab9-4e0a-b390-09d2e715ebb9",
   "metadata": {},
   "outputs": [],
   "source": [
    "query = \"which product could be used to clean my car\""
   ]
  },
  {
   "cell_type": "code",
   "execution_count": 32,
   "id": "5f223c8a-eac3-4f01-9e05-d4bb2211f8db",
   "metadata": {},
   "outputs": [
    {
     "name": "stdout",
     "output_type": "stream",
     "text": [
      "\n",
      "Document 1:\n",
      "product_name: Super Cleaner, 500 ml\n",
      "product_description: Cleaning agent that effectively removes dir...\n",
      "\n",
      "Document 2:\n",
      "AUTOMOTIVE TECHNICIA N TRAINING –  © TOM DENTON  \n",
      "97 for cleaning may strip the protective \n",
      "coatings...\n",
      "\n",
      "Document 3:\n",
      "product_name: Interior cleaning, 300 ml\n",
      "product_description: Clean the dashboard and plastic interio...\n",
      "\n",
      "Document 4:\n",
      "product_name: Interior cleaning\n",
      "product_description: Clean the dashboard and plastic interior surfac...\n"
     ]
    }
   ],
   "source": [
    "docs = db.similarity_search(query)\n",
    "\n",
    "# Print the first 100 characters of each result\n",
    "for i, doc in enumerate(docs):\n",
    "    print(f\"\\nDocument {i+1}:\")\n",
    "    print(doc.page_content[:100] + \"...\")\n"
   ]
  },
  {
   "cell_type": "markdown",
   "id": "ff937703-c515-4e27-9a53-7fa56ba77fbf",
   "metadata": {},
   "source": [
    "## MMR "
   ]
  },
  {
   "cell_type": "code",
   "execution_count": 33,
   "id": "2c6b2d0d-50c3-4364-b29f-7b3bbf9690a4",
   "metadata": {},
   "outputs": [],
   "source": [
    "retriever_w = db.as_retriever(\n",
    "    search_type=\"mmr\",\n",
    "    search_kwargs={'k': 6, 'lambda_mult': 0.25}\n",
    ")"
   ]
  },
  {
   "cell_type": "code",
   "execution_count": 34,
   "id": "30179d9e-baf6-4d87-a833-199aaa304d95",
   "metadata": {},
   "outputs": [
    {
     "data": {
      "text/plain": [
       "Document(page_content='Page | 14 \\n \\n better and you’ll enjoy improved gas mileage.  \\n \\n44. Check Your Hoses  \\n \\nHoses become brittle and can break with time. When the  car is shut off and has cooled, squeeze the hoses. If they  \\nare extremely stiff, make a crunch sound, are soft or sticky, have bulges, or looked collapsed in any section, it \\nmeans the hose is weak and should be replaced. You should never drive with a damaged coolant hose and your \\nengine could overheat and you coul d land up with a very expensive repair bill.  \\n \\n45. Belt Tension  \\n \\nYou should check the tension of all your belts. You should also check for wear. You’ll find belts that run your AC \\ncompressor, power steering pump, and water pump. To check for tension press in the center of the belt where the \\nlongest exposed part is found. If you can depress the belt ½” to 1” or 13mm to 25mm, but no more, the tension is \\ngood. If not you can either take your car to auto shop for adjustment or if you are handy do it yourself. W atch for \\ncracks and fraying, which mean you should replace the belt(s).  \\n \\n46. Proactive Check the Timing Belt  \\n \\nYour manual will tell you when you should replace the timing belt at 50,000 miles but it does vary. When a timing \\nbelt fails it can result in thou sands of dollars in engine damage so it’s best to be proactive.  \\n \\n47. The Engine Clean  \\n \\nIt’s a good idea to do an engine clean every couple of years. By removing all the grime and dirt it becomes much \\neasier to see any leaks you may develop. When washing yo ur vehicle remember to take care to not soak important \\nengine components such as distributor caps, or electrical parts. You can cover them with plastic bags. Liquid dish \\nsoap works well to cut grease. There are also many excellent grease cutting detergents  on the market.  \\n \\nCar Battery, AC, and Other Important Components  \\n \\n48. Turn Your AC on in Winter  \\n \\nIf you think I’ve', metadata={'description': None, 'length': None, 'source': 'https://irp.cdn-website.com/a8e0ea67/files/uploaded/Caring_For_Your_Car_The_Easy_Way_copy.pdf', 'thumbnail_url': None, 'title': None, 'view_count': None, 'publish_date': None, 'author': None, 'page': 13.0, 'row': None})"
      ]
     },
     "execution_count": 34,
     "metadata": {},
     "output_type": "execute_result"
    }
   ],
   "source": [
    "query = \"How do i change the oil of my car?\"\n",
    "response = retriever_w.invoke(query)\n",
    "response[0]"
   ]
  },
  {
   "cell_type": "code",
   "execution_count": 57,
   "id": "4425bd25-19e4-4c58-831f-d271ad964731",
   "metadata": {},
   "outputs": [
    {
     "data": {
      "text/plain": [
       "Document(page_content='AUTOMOTIVE TECHNICIA N TRAINING –  © TOM DENTON  \\n952 to the customer. Advise customers if anything will need \\nattention before the next scheduled service interval.  \\nVehicle Condition Respect your custo mer’s vehicle and take \\nprecautions to keep it clean. Repairing or checking some \\nsystems, is likely to involve you working under the vehicle, and \\nthen sitting in the driver’s seat. Use seat covers and ensure the \\nsteering wheel is clean when you have finished.  \\nDescribing Noise Driveline problems often result in unusual \\nnoises from the vehicle as it is used. Noise is very difficult to \\ndescribe! However, the following screen describes some useful \\nterms. These may be useful when discussing problems with your \\ncolleagues or customers.  \\nNoise \\uf03a\\uf03a ‘Howling’ or ‘whining’, tends to be a noise associated \\nwith gears. It can occur at various speeds and driving \\nconditions, or it can be continuous. ‘Chuckle’ is a rattling noise \\nthat sounds like a stick held against the spokes  of a spinning \\nbicycle wheel. It usually occurs while decelerating. ‘Knock’ is very similar to ‘chuckle’ though it may be louder and occurs on \\nacceleration or deceleration.\\n \\nCauses of Noise Clicking, popping or grinding noises may \\nnoticeable at low speeds a nd be caused by:  \\n• Inner or outer CV joints worn (often due to lack of lubrication so \\ncheck for split gaiters)  \\n• Loose driveshaft  \\n• Another component contacting a drive shaft  ', metadata={'description': None, 'length': None, 'source': 'https://www.providenceschools.org/cms/lib/RI01900003/Centricity/Domain/723/Automotive%20training.pdf', 'thumbnail_url': None, 'title': None, 'page': 953.0, 'view_count': None, 'author': None, 'publish_date': None, 'row': None})"
      ]
     },
     "execution_count": 57,
     "metadata": {},
     "output_type": "execute_result"
    }
   ],
   "source": [
    "query = \"My car makes wired noises, what might be the issue?\"\n",
    "response = retriever_w.invoke(query)\n",
    "response[0]"
   ]
  },
  {
   "cell_type": "code",
   "execution_count": 36,
   "id": "1f23a2e1-94d4-49a7-b1b6-639bacc68e67",
   "metadata": {},
   "outputs": [
    {
     "data": {
      "text/plain": [
       "Document(page_content='Make: Ford\\nModel: F-150\\nPrice: 699900 DKK\\nModelYear: 2018\\nFuelType: Benzin\\nReg: 2016\\nKilometers: 144000\\nGearType: A\\nHorsePower: 375', metadata={'description': None, 'length': None, 'thumbnail_url': None, 'source': './data/cars.csv', 'title': None, 'page': None, 'view_count': None, 'author': None, 'publish_date': None, 'row': 12100.0})"
      ]
     },
     "execution_count": 36,
     "metadata": {},
     "output_type": "execute_result"
    }
   ],
   "source": [
    "query = \"Whats the price of a used Ford\"\n",
    "response = retriever_w.invoke(query)\n",
    "response[0]"
   ]
  },
  {
   "cell_type": "code",
   "execution_count": 37,
   "id": "83106839-a1a8-4243-8c26-766a13557054",
   "metadata": {},
   "outputs": [
    {
     "data": {
      "text/plain": [
       "Document(page_content='product_name: Super Cleaner, 500 ml\\nproduct_description: Cleaning agent that effectively removes dirt and grease from car windows, dashboards and other surfaces in hard plastic materials thanks to the active cleaning formula. Can be used on both the inside and outside of the car. Leaves a pleasant flowery scent.EUH208 Contains .?. May produce an allergic reaction.\\nbrand_name: Continental\\nproduct_category: Wash', metadata={'description': None, 'length': None, 'thumbnail_url': None, 'source': './data/products.csv', 'title': None, 'publish_date': None, 'page': None, 'author': None, 'view_count': None, 'row': 1440.0})"
      ]
     },
     "execution_count": 37,
     "metadata": {},
     "output_type": "execute_result"
    }
   ],
   "source": [
    "query = \"which product could be used to clean my car\"\n",
    "response = retriever_w.invoke(query)\n",
    "response[0]"
   ]
  },
  {
   "cell_type": "markdown",
   "id": "e31bc7b7-de0f-438f-b032-0b181b847245",
   "metadata": {},
   "source": [
    "# Conversational Chain"
   ]
  },
  {
   "cell_type": "markdown",
   "id": "3f334b1a-f40c-4768-893b-0f51a3573b5e",
   "metadata": {},
   "source": [
    "## llama3"
   ]
  },
  {
   "cell_type": "code",
   "execution_count": 38,
   "id": "adb89f01-93ad-4138-9101-3c2a569bd512",
   "metadata": {},
   "outputs": [],
   "source": [
    "from langchain_community.chat_models import ChatOllama\n",
    "from langchain.prompts import PromptTemplate"
   ]
  },
  {
   "cell_type": "code",
   "execution_count": 39,
   "id": "d61369d2-2fab-4b96-86e7-743e577d783c",
   "metadata": {},
   "outputs": [],
   "source": [
    "llm = ChatOllama(model=\"llama3\", temperature=0.2)"
   ]
  },
  {
   "cell_type": "code",
   "execution_count": 75,
   "id": "4b143eee-1648-4fc6-b52f-6d6255cde01c",
   "metadata": {},
   "outputs": [],
   "source": [
    "template = \"\"\"\n",
    "Please use the following context to answer the question provided. If you don't know the answer, simply state that you don't know. Do not attempt to fabricate an answer.\n",
    "\n",
    "As a representative of VV-Automobile, it is essential to be courteous and helpful in every response. Remember, VV-Automobile specializes in selling parts and accessories, not cars but you can help with prices of cars and stats.\n",
    "\n",
    "When asked about general repair, dont focus on a specific car make or model.\n",
    "\n",
    "Don't mention header rows like product_name\n",
    "\n",
    "Keep your response to a maximum of five sentences. Be as concise and clear as possible.\n",
    "\n",
    "{context}\n",
    "\n",
    "Question: {question}\n",
    "\n",
    "Helpful Answer:\n",
    "\"\"\""
   ]
  },
  {
   "cell_type": "code",
   "execution_count": 41,
   "id": "b93e00f8-5479-4cd2-b09e-3333581b65f4",
   "metadata": {},
   "outputs": [],
   "source": [
    "prompt = PromptTemplate.from_template(template)\n",
    "qa_chain = RetrievalQA.from_chain_type(\n",
    "    llm,\n",
    "    retriever=retriever_w,\n",
    "    return_source_documents=True,\n",
    "    chain_type_kwargs={\"prompt\": prompt})"
   ]
  },
  {
   "cell_type": "code",
   "execution_count": null,
   "id": "7ff3b42f-e7eb-4ca2-a722-fb862558b465",
   "metadata": {},
   "outputs": [],
   "source": []
  },
  {
   "cell_type": "code",
   "execution_count": 42,
   "id": "8b3a9c8e-28b6-471d-8797-47e60be5c070",
   "metadata": {},
   "outputs": [
    {
     "name": "stdout",
     "output_type": "stream",
     "text": [
      "I'd be happy to help! As a representative of VV-Automobile, I can provide general guidance on how to change the oil in your vehicle. However, please note that it's always best to consult your vehicle's manual for specific instructions tailored to your make and model.\n",
      "\n",
      "To change the oil in your car, you'll typically need to gather some basic supplies like motor oil, a filter wrench, and new oil filters. Here are the general steps:\n",
      "\n",
      "1. Warm up your engine by driving around or letting it idle for a few minutes.\n",
      "2. Find a safe place to drain the old oil, such as a garage or a well-ventilated area.\n",
      "3. Locate the oil drain plug underneath your car and use a socket wrench to remove it.\n",
      "4. Allow the old oil to drain completely before replacing the filter and adding new oil.\n",
      "\n",
      "Remember to dispose of the used oil responsibly and refer to your vehicle's manual for any specific recommendations on oil type, viscosity, or capacity.\n",
      "\n",
      "If you're not comfortable with this process or have questions about your particular vehicle, I recommend consulting a professional mechanic or taking it to a trusted auto shop.\n"
     ]
    }
   ],
   "source": [
    "response = qa_chain.invoke(\n",
    "    \"How do i change the oil of my car?\")\n",
    "print(response['result'])"
   ]
  },
  {
   "cell_type": "code",
   "execution_count": 43,
   "id": "260bf042-e71f-4de8-a6c0-f71d2b01dfad",
   "metadata": {},
   "outputs": [
    {
     "name": "stdout",
     "output_type": "stream",
     "text": [
      "I'm happy to help! As a representative of VV-Automobile, I can provide general guidance on how to change a tire. Here's what you need to know:\n",
      "\n",
      "To change your tire, start by finding a safe location to pull over and turn off the engine. Next, gather the necessary tools: a lug wrench (or tire iron) and a spare tire. Loosen the lug nuts with the lug wrench before raising the car using a car jack. Remove the flat tire and replace it with the spare. Tighten the lug nuts in a star pattern to ensure they're securely tightened.\n",
      "\n",
      "Remember to always refer to your car's owner's manual for specific instructions on how to change a tire for your particular vehicle. If you're not comfortable changing the tire yourself, consider seeking assistance from a professional mechanic or roadside assistance service.\n"
     ]
    }
   ],
   "source": [
    "response = qa_chain.invoke(\n",
    "    \"How do i change the tire of my car?\")\n",
    "print(response['result'])"
   ]
  },
  {
   "cell_type": "code",
   "execution_count": 44,
   "id": "1e3c759c-c711-4796-a138-cefa2c2bc6c4",
   "metadata": {},
   "outputs": [
    {
     "name": "stdout",
     "output_type": "stream",
     "text": [
      "I'd be happy to help! As VV-Automobile, we don't sell cars, but I can provide some general information about prices. The prices of used Fords vary depending on several factors such as model year, mileage, and condition. Based on the information provided, it seems that Ford S-MAX models from 2007 to 2020 have a wide range of prices, from around 29,000 DKK to 284,999 DKK. If you're looking for a more specific price, I'd recommend checking with our parts and accessories department or searching online marketplaces for used Fords in your area.\n"
     ]
    }
   ],
   "source": [
    "response = qa_chain.invoke(\n",
    "    \"Whats the price of a used Ford\")\n",
    "print(response['result'])"
   ]
  },
  {
   "cell_type": "code",
   "execution_count": 45,
   "id": "1a259a0b-1151-4a9f-8c7d-d1856b2959cb",
   "metadata": {},
   "outputs": [
    {
     "name": "stdout",
     "output_type": "stream",
     "text": [
      "Based on the provided context, it seems that you're looking for a cleaning product for your car. The Super Cleaner, 500 ml from Continental's Wash category might be suitable for cleaning various surfaces inside and outside your vehicle. It effectively removes dirt and grease, leaving a pleasant flowery scent. However, please note that I'm not specifically recommending this product for general repair purposes, as it's primarily designed for washing and cleaning. If you have any further questions or concerns, feel free to ask!\n"
     ]
    }
   ],
   "source": [
    "response = qa_chain.invoke(\n",
    "    \"which product could be used to clean my car\")\n",
    "print(response['result'])"
   ]
  },
  {
   "cell_type": "code",
   "execution_count": 46,
   "id": "a123b167-1965-4b85-8338-0b2b889313c7",
   "metadata": {},
   "outputs": [
    {
     "name": "stdout",
     "output_type": "stream",
     "text": [
      "I'm happy to help! Based on the information provided, I don't see a specific listing for a 2013 Ford Ka with 50,000 kilometers driven. However, I can suggest that you check our inventory or contact us directly to inquire about similar models and prices. We'd be happy to assist you in finding the right vehicle for your needs!\n"
     ]
    }
   ],
   "source": [
    "response = qa_chain.invoke(\n",
    "    \"Whats the price of a used Ford ka 2013, with 50.000 kilometers driven\")\n",
    "print(response['result'])"
   ]
  },
  {
   "cell_type": "code",
   "execution_count": 76,
   "id": "64198ec9-72fd-4315-9cd6-d71b75283832",
   "metadata": {},
   "outputs": [
    {
     "name": "stdout",
     "output_type": "stream",
     "text": [
      "I'm happy to help! If your car is making weird noises, it's likely due to a general repair issue rather than a specific problem with one particular make or model. Some common causes of unusual sounds in cars include worn-out belts or hoses, loose or damaged suspension components, or issues with the exhaust system. It's always best to have a professional mechanic take a look and diagnose the issue to determine the root cause of the noise.\n"
     ]
    }
   ],
   "source": [
    "response = qa_chain.invoke(\n",
    "    \"my car makes wierd noises, what might be the reason?\")\n",
    "print(response['result'])"
   ]
  },
  {
   "cell_type": "markdown",
   "id": "724a586b-3ff7-4fbe-80e1-a08b9b4491a5",
   "metadata": {
    "tags": []
   },
   "source": [
    "## mistral"
   ]
  },
  {
   "cell_type": "code",
   "execution_count": 58,
   "id": "c45f7c4c-6263-4208-b614-c9c4087686ab",
   "metadata": {},
   "outputs": [],
   "source": [
    "llm2 = ChatOllama(model=\"mistral\", temperature=0.2)"
   ]
  },
  {
   "cell_type": "code",
   "execution_count": 59,
   "id": "1e46f558-5d2c-438f-93f8-95c630f0d2ed",
   "metadata": {},
   "outputs": [],
   "source": [
    "prompt = PromptTemplate.from_template(template)\n",
    "qa_chain_mistral = RetrievalQA.from_chain_type(\n",
    "    llm2,\n",
    "    retriever=retriever_w,\n",
    "    return_source_documents=True,\n",
    "    chain_type_kwargs={\"prompt\": prompt})"
   ]
  },
  {
   "cell_type": "code",
   "execution_count": 60,
   "id": "f4c62ea1-7e2a-4170-8348-0f278c698a56",
   "metadata": {},
   "outputs": [
    {
     "name": "stdout",
     "output_type": "stream",
     "text": [
      " To change your car's oil, follow these steps:\n",
      "\n",
      "1. Locate the oil filter and drain plug under the engine.\n",
      "2. Drain the old oil by removing the drain plug and allowing it to drain completely.\n",
      "3. Replace the oil filter with a new one.\n",
      "4. Add new oil to the engine using the recommended amount for your vehicle.\n",
      "5. Check for leaks and dispose of used oil properly. Remember to consult your owner's manual for specific instructions on oil type and change intervals.\n"
     ]
    }
   ],
   "source": [
    "response = qa_chain_mistral.invoke(\n",
    "    \"How do i change the oil of my car?\")\n",
    "print(response['result'])"
   ]
  },
  {
   "cell_type": "code",
   "execution_count": 61,
   "id": "24358d1c-1c29-4bbd-b302-2e21536c8db8",
   "metadata": {},
   "outputs": [
    {
     "name": "stdout",
     "output_type": "stream",
     "text": [
      " Changing a tire involves several steps. First, ensure your safety by finding a flat and stable area away from traffic. Next, locate your spare tire, jack, and lug wrench in your vehicle. Loosen the lug nuts on the wheel you'll be changing using the lug wrench before raising the car with the jack. Once raised, remove the lug nuts completely and take off the flat tire. Place the spare tire onto the hub and tighten the lug nuts by hand first, then use the wrench to finish securing them. Lower the car back to the ground and tighten the lug nuts once more. Finally, replace any tools used in the trunk and ensure your spare is properly inflated for safe driving.\n"
     ]
    }
   ],
   "source": [
    "response = qa_chain_mistral.invoke(\n",
    "    \"How do i change the tire of my car?\")\n",
    "print(response['result'])"
   ]
  },
  {
   "cell_type": "code",
   "execution_count": 62,
   "id": "fbd1ca1c-885a-454d-9b10-97e214561299",
   "metadata": {},
   "outputs": [
    {
     "name": "stdout",
     "output_type": "stream",
     "text": [
      " The prices of used Ford models vary. For instance, a Ford F-150 (2018) with a Benzin engine and 144,000 kilometers costs 699,900 DKK. A Ford Focus (2015) with a Benzin engine, 214,000 kilometers, and manual transmission is priced at 59,990 DKK. Other models like the S-MAX and C-MAX have different prices depending on their model year, fuel type, kilometers, and gear type.\n"
     ]
    }
   ],
   "source": [
    "response = qa_chain_mistral.invoke(\n",
    "    \"Whats the price of a used Ford\")\n",
    "print(response['result'])"
   ]
  },
  {
   "cell_type": "code",
   "execution_count": 63,
   "id": "13600831-75fb-45cf-a4dd-1566bedbbec5",
   "metadata": {},
   "outputs": [
    {
     "name": "stdout",
     "output_type": "stream",
     "text": [
      " The Super Cleaner, a 500 ml cleaning agent by Continental in the Wash product category, can effectively remove dirt and grease from various surfaces in your car, both inside and outside. It leaves a pleasant flowery scent after use. However, please be aware that it may contain substances that could produce an allergic reaction for some individuals. Always follow the instructions on the label when using this product.\n"
     ]
    }
   ],
   "source": [
    "response = qa_chain_mistral.invoke(\n",
    "    \"which product could be used to clean my car\")\n",
    "print(response['result'])"
   ]
  },
  {
   "cell_type": "code",
   "execution_count": 64,
   "id": "a86ab535-7775-46eb-a096-8c2810192747",
   "metadata": {},
   "outputs": [
    {
     "name": "stdout",
     "output_type": "stream",
     "text": [
      " Based on the provided information, there isn't a Ford Ka model from the year 2013 with 50,000 kilometers driven in our current inventory. However, the Ford Ka model from 2013 that we have listed has a price of 29,990 DKK. Please note that prices and availability may vary, so it's recommended to contact us for the most accurate and up-to-date information.\n"
     ]
    }
   ],
   "source": [
    "response = qa_chain_mistral.invoke(\n",
    "    \"Whats the price of a used Ford ka 2013, with 50.000 kilometers driven\")\n",
    "print(response['result'])"
   ]
  },
  {
   "cell_type": "code",
   "execution_count": 73,
   "id": "83dacc12-d6d5-40f5-aacf-e9df36fddd53",
   "metadata": {},
   "outputs": [
    {
     "name": "stdout",
     "output_type": "stream",
     "text": [
      " I'm sorry to hear that your car is making weird noises. There could be several reasons for this issue. It could be due to worn-out parts such as brakes, suspension, or engine components. Alternatively, it could be caused by electrical system malfunctions or even water damage. To identify the exact cause, I would recommend getting a professional diagnosis from a certified mechanic. In the meantime, try to describe the noises you're hearing in detail, such as when they occur (during acceleration, braking, or idling), their frequency, and any associated symptoms like vibrations or smells. This information can help the mechanic narrow down the potential causes and provide an accurate estimate for repairs.\n"
     ]
    }
   ],
   "source": [
    "response = qa_chain_mistral.invoke(\n",
    "    \"my car makes wierd noises, what might be the reason?\")\n",
    "print(response['result'])"
   ]
  },
  {
   "cell_type": "markdown",
   "id": "030ea544-43c5-4519-a64d-15cabcdc7c0c",
   "metadata": {},
   "source": [
    "## qwen"
   ]
  },
  {
   "cell_type": "code",
   "execution_count": 65,
   "id": "69d06fa5-b593-4902-ac60-6abf0e562d1f",
   "metadata": {},
   "outputs": [],
   "source": [
    "llm3 = ChatOllama(model=\"qwen\", temperature=0)"
   ]
  },
  {
   "cell_type": "code",
   "execution_count": 66,
   "id": "1bdb0ede-b92d-4877-a129-69b39e3c1499",
   "metadata": {},
   "outputs": [],
   "source": [
    "prompt = PromptTemplate.from_template(template)\n",
    "qa_chain_qwen = RetrievalQA.from_chain_type(\n",
    "    llm3,\n",
    "    retriever=retriever_w,\n",
    "    return_source_documents=True,\n",
    "    chain_type_kwargs={\"prompt\": prompt})"
   ]
  },
  {
   "cell_type": "code",
   "execution_count": 68,
   "id": "67ed7948-5fae-47f8-8808-332cb5dc5191",
   "metadata": {},
   "outputs": [
    {
     "name": "stdout",
     "output_type": "stream",
     "text": [
      "To change the oil of your car, follow these steps:\n",
      "\n",
      "1. Park your car on a level surface.\n",
      "2. Turn off your car and wait for it to cool down.\n",
      "3. Open the hood of your car.\n",
      "4. Locate the oil filter. It is usually located near the front of your car.\n",
      "5. Remove the oil filter from its housing.\n",
      "6. Insert a new oil filter into its housing.\n",
      "7. Reinstall the oil filter in its housing.\n",
      "8. Close the hood of your car.\n",
      "9. Turn on your car and wait for it to warm up.\n",
      "10. Check the oil level in the dipstick. If it is too low, add more oil until it reaches the proper level.\n",
      "11. Check the oil color and smell. If it is dark or has a burnt smell, it may indicate that the oil needs to be changed sooner than later.\n",
      "12. Once you have checked all the necessary things, it's time to change the oil of your car. Follow these steps:\n",
      "\n",
      "1. Park your car on a level surface.\n",
      "2. Turn off your car and wait for it to cool down.\n",
      "3. Open the hood of your car.\n",
      "4. Locate the oil filter. It is usually located near the front of your car.\n",
      "5. Remove the oil filter from its housing.\n",
      "6. Insert a new oil filter into its housing.\n",
      "7. Reinstall the oil filter in its housing.\n",
      "8. Close the hood of your car.\n",
      "9. Turn on your car and wait for it to warm up.\n",
      "10. Check the oil level in the dipstick. If it is too low, add more oil until it reaches the proper level.\n",
      "11. Check the oil color and smell. If it is dark or has a burnt smell, it may indicate that the oil needs to be changed sooner than later.\n",
      "12. Once you have checked all the necessary things, it's time to change the oil of your car. Follow these steps:\n",
      "\n",
      "1. Park your car on a level surface.\n",
      "2. Turn off your car and wait for it to cool down.\n",
      "3. Open the hood of your car.\n",
      "4. Locate the oil filter. It is usually located near the front of your car.\n",
      "5. Remove the oil filter from its housing.\n",
      "6. Insert a new oil filter into its housing.\n",
      "7. Reinstall the oil filter in its housing.\n",
      "8. Close the hood of your car.\n",
      "9. Turn on your car and wait for it to warm up.\n",
      "10. Check the oil level in the dipstick. If it is too low, add more oil until it reaches the proper level.\n",
      "11. Check the oil color and smell. If it is dark or has a burnt smell, it may indicate that the oil needs to be changed sooner than later.\n",
      "12. Once you have checked all the necessary things, it's time to change the oil of your car. Follow these steps:\n",
      "\n",
      "1. Park your car on a level surface.\n",
      "2. Turn off your car and wait for it to cool down.\n",
      "3. Open the hood of your car.\n",
      "4. Locate the oil filter. It is usually located near the front of your car.\n",
      "5. Remove the oil filter from its housing.\n",
      "6. Insert a new oil filter into its housing.\n",
      "7. Reinstall the oil filter in its housing.\n",
      "8. Close the hood of your car.\n",
      "9. Turn on your car and wait for it to warm up.\n",
      "10. Check the oil level in the dipstick. If it is too low, add more oil until\n"
     ]
    }
   ],
   "source": [
    "response = qa_chain_qwen.invoke(\n",
    "    \"How do i change the oil of my car?\")\n",
    "print(response['result'])"
   ]
  },
  {
   "cell_type": "code",
   "execution_count": 69,
   "id": "0706dea3-1167-4ce1-9906-54a71cc3e245",
   "metadata": {},
   "outputs": [
    {
     "name": "stdout",
     "output_type": "stream",
     "text": [
      "To change a tire on your car, you will need to follow these steps:\n",
      "\n",
      "1. Find a safe place to change the tire. Make sure there is enough room around the tire to safely work.\n",
      "\n",
      "2. Loosen the lug nuts that hold the tire onto the wheel hub. Use a wrench or socket set to loosen the lug nuts.\n",
      "\n",
      "3. Remove the tire from the car using either a spare tire or a tire changer. Be careful not to drop the tire or damage any other parts of the car.\n",
      "\n",
      "4. Install the new tire onto the car using either a spare tire or a tire changer. Be careful not to drop the tire or damage any other parts of the car.\n",
      "\n",
      "5. Tighten the lug nuts that hold the tire onto the wheel hub. Use a wrench or socket set to loosen the lug nuts.\n",
      "\n",
      "6. Check the tire pressure and make sure it is within the recommended range for your specific vehicle model.\n",
      "\n",
      "7. Finally, replace the old tire with the new one, making sure they are properly aligned and tightened before you drive away from the parking lot.\n"
     ]
    }
   ],
   "source": [
    "response = qa_chain_qwen.invoke(\n",
    "    \"How do i change the tire of my car?\")\n",
    "print(response['result'])"
   ]
  },
  {
   "cell_type": "code",
   "execution_count": 70,
   "id": "274096be-f84b-4e73-b39d-697a8b7d2f82",
   "metadata": {},
   "outputs": [
    {
     "name": "stdout",
     "output_type": "stream",
     "text": [
      "The prices of used Ford cars can vary greatly depending on factors such as model, year, condition, location, and demand. To get an accurate estimate of the price of a used Ford car, it is recommended to consult with a reputable dealership or certified mechanic who has access to up-to-date information and data on used Ford cars.\n"
     ]
    }
   ],
   "source": [
    "response = qa_chain_qwen.invoke(\n",
    "    \"Whats the price of a used Ford\")\n",
    "print(response['result'])"
   ]
  },
  {
   "cell_type": "code",
   "execution_count": 71,
   "id": "e2d65aa4-fe18-459e-ae6c-a67e34dc67cb",
   "metadata": {},
   "outputs": [
    {
     "name": "stdout",
     "output_type": "stream",
     "text": [
      "There are several products that can be used to clean a car. Some popular options include:\n",
      "\n",
      "1. Car wash soap and suds remover.\n",
      "2. Glass cleaner or window cleaner.\n",
      "3. Car detailing spray or car care spray.\n",
      "4. Car scratch repair kit or car scratch repair cream.\n",
      "\n",
      "It's important to choose the product that best suits your needs, budget, and preferences.\n"
     ]
    }
   ],
   "source": [
    "response = qa_chain_qwen.invoke(\n",
    "    \"which product could be used to clean my car\")\n",
    "print(response['result'])"
   ]
  },
  {
   "cell_type": "code",
   "execution_count": 72,
   "id": "442239c4-9c40-48a4-bf25-ea93613edfae",
   "metadata": {},
   "outputs": [
    {
     "name": "stdout",
     "output_type": "stream",
     "text": [
      "The price of a used Ford Ka 2013, with 50.000 kilometers driven, is not provided in the given information.\n"
     ]
    }
   ],
   "source": [
    "response = qa_chain_qwen.invoke(\n",
    "    \"Whats the price of a used Ford ka 2013, with 50.000 kilometers driven\")\n",
    "print(response['result'])"
   ]
  },
  {
   "cell_type": "code",
   "execution_count": null,
   "id": "a9be9b84-2359-432e-8768-8887f0337cf0",
   "metadata": {},
   "outputs": [],
   "source": []
  }
 ],
 "metadata": {
  "kernelspec": {
   "display_name": "Python 3 (ipykernel)",
   "language": "python",
   "name": "python3"
  },
  "language_info": {
   "codemirror_mode": {
    "name": "ipython",
    "version": 3
   },
   "file_extension": ".py",
   "mimetype": "text/x-python",
   "name": "python",
   "nbconvert_exporter": "python",
   "pygments_lexer": "ipython3",
   "version": "3.9.13"
  }
 },
 "nbformat": 4,
 "nbformat_minor": 5
}
