{
 "cells": [
  {
   "cell_type": "code",
   "execution_count": 1,
   "id": "9ee3127b-10bf-4a55-84f0-4e539a2b55c5",
   "metadata": {},
   "outputs": [],
   "source": [
    "from langchain.chains import RetrievalQA\n",
    "from langchain.llms import Ollama\n",
    "from langchain_community.chat_models import ChatOllama\n",
    "from langchain.prompts import PromptTemplate\n",
    "from langchain import HuggingFaceHub\n",
    "from langchain_community.embeddings import HuggingFaceEmbeddings\n",
    "from langchain_community.embeddings import OllamaEmbeddings\n",
    "import weaviate\n",
    "from langchain_weaviate.vectorstores import WeaviateVectorStore"
   ]
  },
  {
   "cell_type": "code",
   "execution_count": 5,
   "id": "d522d90b-cefe-40f0-932e-9098d0dfff3c",
   "metadata": {},
   "outputs": [
    {
     "name": "stdout",
     "output_type": "stream",
     "text": [
      "I'd be happy to help you with that! If your car is smelling, there are a few things you can try to eliminate the odor. One option is to use an air freshener or deodorizer specifically designed for cars. These products come in a variety of scents and can be placed in the car's interior to absorb and neutralize any unpleasant odors. You can find these types of products at most auto parts stores or online.\n"
     ]
    }
   ],
   "source": [
    "model_name = \"sentence-transformers/all-mpnet-base-v2\"\n",
    "model_kwargs = {'device': 'cpu'}\n",
    "encode_kwargs = {'normalize_embeddings': True}\n",
    "\n",
    "template = \"\"\"\n",
    "Please use the following context to answer the question provided. If you don't know the answer, simply state that you don't know. Do not attempt to fabricate an answer.\n",
    "\n",
    "As a representative of VV-Automobile, it is essential to be courteous and helpful in every response. Remember, VV-Automobile specializes in selling parts and accessories, not cars but you can help with prices of cars and stats.\n",
    "\n",
    "When asked about genral repair, dont focus on a specific car make or model.\n",
    "\n",
    "Don't mention header rows like product_name\n",
    "\n",
    "Keep your response to a maximum of five sentences. Be as concise and clear as possible.\n",
    "\n",
    "{context}\n",
    "\n",
    "Question: {question}\n",
    "\n",
    "Helpful Answer:\n",
    "\"\"\"\n",
    "\n",
    "\n",
    "embedder = HuggingFaceEmbeddings(\n",
    "    model_name=model_name,\n",
    "    model_kwargs=model_kwargs,\n",
    "    encode_kwargs=encode_kwargs\n",
    ")\n",
    "\n",
    "weaviate_url = \"http://127.0.0.1:8080\"\n",
    "weaviate_client = weaviate.connect_to_local()\n",
    "\n",
    "db = WeaviateVectorStore(\n",
    "    client=weaviate_client, index_name=\"car_info\", text_key=\"text\",embedding=embedder\n",
    ")\n",
    "\n",
    "retriever_w = db.as_retriever(\n",
    "    search_type=\"mmr\",\n",
    "    search_kwargs={'k': 6, 'lambda_mult': 0.25}\n",
    ")\n",
    "\n",
    "prompt = PromptTemplate.from_template(template)\n",
    "\n",
    "llm = ChatOllama(model=\"llama3\", temperature=0.2)\n",
    "qa_chain = RetrievalQA.from_chain_type(\n",
    "    llm,\n",
    "    retriever=retriever_w,\n",
    "    return_source_documents=True,\n",
    "    chain_type_kwargs={\"prompt\": prompt})\n",
    "\n",
    "\n",
    "response = qa_chain.invoke(\n",
    "    \"my car is smelling, what can i buy?\")\n",
    "print(response['result'])\n",
    "\n",
    "weaviate_client.close() \n"
   ]
  }
 ],
 "metadata": {
  "kernelspec": {
   "display_name": "Python 3 (ipykernel)",
   "language": "python",
   "name": "python3"
  },
  "language_info": {
   "codemirror_mode": {
    "name": "ipython",
    "version": 3
   },
   "file_extension": ".py",
   "mimetype": "text/x-python",
   "name": "python",
   "nbconvert_exporter": "python",
   "pygments_lexer": "ipython3",
   "version": "3.9.13"
  }
 },
 "nbformat": 4,
 "nbformat_minor": 5
}
